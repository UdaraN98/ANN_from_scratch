{
  "nbformat": 4,
  "nbformat_minor": 0,
  "metadata": {
    "colab": {
      "provenance": [],
      "gpuType": "T4",
      "authorship_tag": "ABX9TyNgb0OrWQ83OTQedLmd3/GQ",
      "include_colab_link": true
    },
    "kernelspec": {
      "name": "python3",
      "display_name": "Python 3"
    },
    "language_info": {
      "name": "python"
    },
    "accelerator": "GPU",
    "gpuClass": "standard"
  },
  "cells": [
    {
      "cell_type": "markdown",
      "metadata": {
        "id": "view-in-github",
        "colab_type": "text"
      },
      "source": [
        "<a href=\"https://colab.research.google.com/github/UdaraN98/ANN_from_scratch/blob/main/JAX_NN.ipynb\" target=\"_parent\"><img src=\"https://colab.research.google.com/assets/colab-badge.svg\" alt=\"Open In Colab\"/></a>"
      ]
    },
    {
      "cell_type": "markdown",
      "source": [
        "# Data Loading and splitting\n",
        "\n"
      ],
      "metadata": {
        "id": "xNzCXnEs201-"
      }
    },
    {
      "cell_type": "code",
      "execution_count": 2,
      "metadata": {
        "id": "1IVUfbIZw50v"
      },
      "outputs": [],
      "source": [
        "import jax.numpy as jnp\n",
        "from jax import grad, jit, vmap\n",
        "from jax import random\n",
        "\n",
        "import pandas as pd\n",
        "import matplotlib.pyplot as pt"
      ]
    },
    {
      "cell_type": "code",
      "source": [
        "\n",
        "import os\n",
        "\n",
        "os.environ[\"KAGGLE_USERNAME\"] = \"udaranilupul\"\n",
        "os.environ[\"KAGGLE_KEY\"] = \"6dfcfe5d3d6742ee54551761419ffeac\"\n"
      ],
      "metadata": {
        "id": "C5KBxd_Jy4aF"
      },
      "execution_count": 3,
      "outputs": []
    },
    {
      "cell_type": "code",
      "source": [
        "!kaggle competitions download -c digit-recognizer"
      ],
      "metadata": {
        "colab": {
          "base_uri": "https://localhost:8080/"
        },
        "id": "IKlqTGb8zmpX",
        "outputId": "4500060e-9310-477d-b357-c98d697bdde9"
      },
      "execution_count": 4,
      "outputs": [
        {
          "output_type": "stream",
          "name": "stdout",
          "text": [
            "Downloading digit-recognizer.zip to /content\n",
            "\r  0% 0.00/15.3M [00:00<?, ?B/s]\r 59% 9.00M/15.3M [00:00<00:00, 68.1MB/s]\n",
            "\r100% 15.3M/15.3M [00:00<00:00, 101MB/s] \n"
          ]
        }
      ]
    },
    {
      "cell_type": "code",
      "source": [
        "!apt-get install p7zip-full"
      ],
      "metadata": {
        "colab": {
          "base_uri": "https://localhost:8080/"
        },
        "id": "XYyRuQMj0Cat",
        "outputId": "3539d3be-684a-4c3d-cc68-9d535236cbd6"
      },
      "execution_count": 5,
      "outputs": [
        {
          "output_type": "stream",
          "name": "stdout",
          "text": [
            "Reading package lists... Done\n",
            "Building dependency tree       \n",
            "Reading state information... Done\n",
            "p7zip-full is already the newest version (16.02+dfsg-7build1).\n",
            "0 upgraded, 0 newly installed, 0 to remove and 24 not upgraded.\n"
          ]
        }
      ]
    },
    {
      "cell_type": "code",
      "source": [
        "!7za x \"digit-recognizer.zip\""
      ],
      "metadata": {
        "id": "xg_dikNb0pQ2"
      },
      "execution_count": null,
      "outputs": []
    },
    {
      "cell_type": "code",
      "source": [
        "#loading the dataset \n",
        "\n",
        "data  = pd.read_csv(\"/content/train.csv\")"
      ],
      "metadata": {
        "id": "brWwdGR303a9"
      },
      "execution_count": 7,
      "outputs": []
    },
    {
      "cell_type": "code",
      "source": [
        "#dividing the data into training and validation sets\n",
        "\n",
        "data  = jnp.array(data)\n",
        "m,n = data.shape"
      ],
      "metadata": {
        "id": "T0omNMw71Bem"
      },
      "execution_count": 8,
      "outputs": []
    },
    {
      "cell_type": "code",
      "source": [
        "data_dev = data[0:1000].T\n",
        "Y_dev = data_dev[0]\n",
        "X_dev = data_dev[1:n]\n",
        "X_dev = X_dev / 255."
      ],
      "metadata": {
        "id": "HTfbTup42euu"
      },
      "execution_count": 9,
      "outputs": []
    },
    {
      "cell_type": "code",
      "source": [
        "data_train = data[1000:m].T\n",
        "Y_train = data_train[0]\n",
        "X_train = data_train[1:n]\n",
        "X_train = X_train / 255.\n",
        "_,m_train = X_train.shape"
      ],
      "metadata": {
        "id": "jGc0qoIM2tqc"
      },
      "execution_count": 10,
      "outputs": []
    },
    {
      "cell_type": "markdown",
      "source": [
        "# NN Building"
      ],
      "metadata": {
        "id": "a-Ljr45w2_S1"
      }
    },
    {
      "cell_type": "code",
      "source": [
        "import jax\n",
        "import jax.numpy as jnp\n",
        "\n",
        "def init_params():\n",
        "    key = jax.random.PRNGKey(0)\n",
        "    W1 = jax.random.uniform(key, (10, 784), minval=-0.5, maxval=0.5)\n",
        "    b1 = jax.random.uniform(key, (10, 1), minval=-0.5, maxval=0.5)\n",
        "    W2 = jax.random.uniform(key, (10, 10), minval=-0.5, maxval=0.5)\n",
        "    b2 = jax.random.uniform(key, (10, 1), minval=-0.5, maxval=0.5)\n",
        "    return W1, b1, W2, b2\n",
        "\n",
        "def ReLU(Z):\n",
        "    return jnp.maximum(Z, 0)\n",
        "\n",
        "def softmax(Z):\n",
        "    A = jnp.exp(Z) / jnp.sum(jnp.exp(Z),axis = 0)\n",
        "    return A\n",
        "\n",
        "def forward_prop(W1, b1, W2, b2, X):\n",
        "    Z1 = jnp.dot(W1, X) + b1\n",
        "    A1 = ReLU(Z1)\n",
        "    Z2 = jnp.dot(W2, A1) + b2\n",
        "    A2 = softmax(Z2)\n",
        "    return Z1, A1, Z2, A2\n",
        "\n",
        "def ReLU_deriv(Z):\n",
        "    return Z > 0\n",
        "\n",
        "def one_hot(Y):\n",
        "    one_hot_Y = jnp.zeros((Y.size, Y.max() + 1))\n",
        "    one_hot_Y = one_hot_Y.at[jnp.arange(Y.size), Y].set(1)\n",
        "    return one_hot_Y.T\n",
        "\n",
        "\n",
        "def backward_prop(Z1, A1, Z2, A2, W1, W2, X, Y):\n",
        "    one_hot_Y = one_hot(Y)\n",
        "    dZ2 = A2 - one_hot_Y\n",
        "    dW2 = 1 / m * jnp.dot(dZ2, A1.T)\n",
        "    db2 = 1 / m * jnp.sum(dZ2, axis=1, keepdims=True)\n",
        "    dZ1 = jnp.dot(W2.T, dZ2) * ReLU_deriv(Z1)\n",
        "    dW1 = 1 / m * jnp.dot(dZ1, X.T)\n",
        "    db1 = 1 / m * jnp.sum(dZ1, axis=1, keepdims=True)\n",
        "    return dW1, db1, dW2, db2\n",
        "\n",
        "def update_params(W1, b1, W2, b2, dW1, db1, dW2, db2, alpha):\n",
        "    W1 = W1 - alpha * dW1\n",
        "    b1 = b1 - alpha * db1    \n",
        "    W2 = W2 - alpha * dW2  \n",
        "    b2 = b2 - alpha * db2    \n",
        "    return W1, b1, W2, b2\n"
      ],
      "metadata": {
        "id": "f65FxHkPCZY-"
      },
      "execution_count": 11,
      "outputs": []
    },
    {
      "cell_type": "code",
      "source": [
        "def one_hot(Y):\n",
        "    one_hot_Y = jnp.zeros((Y.size, Y.max() + 1))\n",
        "    one_hot_Y = jax.nn.one_hot(Y, Y.max() + 1)\n",
        "    return one_hot_Y.T"
      ],
      "metadata": {
        "id": "jV0Y92K36KsF"
      },
      "execution_count": 22,
      "outputs": []
    },
    {
      "cell_type": "code",
      "source": [
        "def get_predictions(A2):\n",
        "    return jnp.argmax(A2, 0)\n",
        "\n",
        "def get_accuracy(predictions, Y):\n",
        "    print(predictions, Y)\n",
        "    return jnp.sum(predictions == Y) / Y.size\n",
        "\n",
        "def gradient_descent(X, Y, alpha, iterations):\n",
        "    W1, b1, W2, b2 = init_params()\n",
        "    for i in range(iterations):\n",
        "        Z1, A1, Z2, A2 = forward_prop(W1, b1, W2, b2, X)\n",
        "        dW1, db1, dW2, db2 = backward_prop(Z1, A1, Z2, A2, W1, W2, X, Y)\n",
        "        W1, b1, W2, b2 = update_params(W1, b1, W2, b2, dW1, db1, dW2, db2, alpha)\n",
        "        if i % 10 == 0:\n",
        "            print(\"Iteration: \", i)\n",
        "            predictions = get_predictions(A2)\n",
        "            print(get_accuracy(predictions, Y))\n",
        "    return W1, b1, W2, b2"
      ],
      "metadata": {
        "id": "qM5uMIik4C51"
      },
      "execution_count": 12,
      "outputs": []
    },
    {
      "cell_type": "code",
      "source": [
        "import time\n",
        "\n",
        "start = time.time()\n",
        "\n",
        "W1, b1, W2, b2 = gradient_descent(X_train, Y_train,0.1, 500)\n",
        "\n",
        "end = time.time()\n",
        "print(end - start, \"seconds\")\n",
        "\n"
      ],
      "metadata": {
        "colab": {
          "base_uri": "https://localhost:8080/"
        },
        "id": "mRRkj_8K5pNu",
        "outputId": "213f500a-92f0-4500-f22b-9fe59bbea6c5"
      },
      "execution_count": 16,
      "outputs": [
        {
          "output_type": "stream",
          "name": "stdout",
          "text": [
            "Iteration:  0\n",
            "[9 6 4 ... 6 6 6] [1 5 1 ... 7 6 9]\n",
            "0.12097561\n",
            "Iteration:  10\n",
            "[1 7 9 ... 4 0 8] [1 5 1 ... 7 6 9]\n",
            "0.23990245\n",
            "Iteration:  20\n",
            "[1 7 9 ... 7 0 2] [1 5 1 ... 7 6 9]\n",
            "0.3552927\n",
            "Iteration:  30\n",
            "[1 7 1 ... 7 0 2] [1 5 1 ... 7 6 9]\n",
            "0.42424393\n",
            "Iteration:  40\n",
            "[1 7 1 ... 7 0 8] [1 5 1 ... 7 6 9]\n",
            "0.48175612\n",
            "Iteration:  50\n",
            "[1 1 1 ... 7 0 8] [1 5 1 ... 7 6 9]\n",
            "0.52665854\n",
            "Iteration:  60\n",
            "[1 1 1 ... 7 6 8] [1 5 1 ... 7 6 9]\n",
            "0.56319517\n",
            "Iteration:  70\n",
            "[1 1 1 ... 7 6 8] [1 5 1 ... 7 6 9]\n",
            "0.593561\n",
            "Iteration:  80\n",
            "[1 1 1 ... 7 6 8] [1 5 1 ... 7 6 9]\n",
            "0.62070733\n",
            "Iteration:  90\n",
            "[1 1 1 ... 7 6 8] [1 5 1 ... 7 6 9]\n",
            "0.6433171\n",
            "Iteration:  100\n",
            "[1 5 1 ... 7 6 4] [1 5 1 ... 7 6 9]\n",
            "0.6620976\n",
            "Iteration:  110\n",
            "[1 5 1 ... 7 6 4] [1 5 1 ... 7 6 9]\n",
            "0.6809756\n",
            "Iteration:  120\n",
            "[1 5 1 ... 7 6 4] [1 5 1 ... 7 6 9]\n",
            "0.69665855\n",
            "Iteration:  130\n",
            "[1 5 1 ... 7 6 4] [1 5 1 ... 7 6 9]\n",
            "0.70941466\n",
            "Iteration:  140\n",
            "[1 5 1 ... 7 6 4] [1 5 1 ... 7 6 9]\n",
            "0.72170734\n",
            "Iteration:  150\n",
            "[1 5 1 ... 7 6 4] [1 5 1 ... 7 6 9]\n",
            "0.7329512\n",
            "Iteration:  160\n",
            "[1 5 1 ... 7 6 4] [1 5 1 ... 7 6 9]\n",
            "0.742122\n",
            "Iteration:  170\n",
            "[1 5 1 ... 7 6 4] [1 5 1 ... 7 6 9]\n",
            "0.75002444\n",
            "Iteration:  180\n",
            "[1 5 1 ... 7 6 9] [1 5 1 ... 7 6 9]\n",
            "0.7584878\n",
            "Iteration:  190\n",
            "[1 5 1 ... 7 6 9] [1 5 1 ... 7 6 9]\n",
            "0.76475614\n",
            "Iteration:  200\n",
            "[1 5 1 ... 7 6 9] [1 5 1 ... 7 6 9]\n",
            "0.7715122\n",
            "Iteration:  210\n",
            "[1 5 1 ... 7 6 9] [1 5 1 ... 7 6 9]\n",
            "0.7783659\n",
            "Iteration:  220\n",
            "[1 5 1 ... 7 6 9] [1 5 1 ... 7 6 9]\n",
            "0.7841952\n",
            "Iteration:  230\n",
            "[1 5 1 ... 7 6 9] [1 5 1 ... 7 6 9]\n",
            "0.78963417\n",
            "Iteration:  240\n",
            "[1 5 1 ... 7 6 9] [1 5 1 ... 7 6 9]\n",
            "0.7950732\n",
            "Iteration:  250\n",
            "[1 5 1 ... 7 6 9] [1 5 1 ... 7 6 9]\n",
            "0.799683\n",
            "Iteration:  260\n",
            "[1 5 1 ... 7 6 9] [1 5 1 ... 7 6 9]\n",
            "0.804\n",
            "Iteration:  270\n",
            "[1 5 1 ... 7 6 9] [1 5 1 ... 7 6 9]\n",
            "0.80814636\n",
            "Iteration:  280\n",
            "[1 5 1 ... 7 6 9] [1 5 1 ... 7 6 9]\n",
            "0.81197566\n",
            "Iteration:  290\n",
            "[1 5 1 ... 7 6 9] [1 5 1 ... 7 6 9]\n",
            "0.8152195\n",
            "Iteration:  300\n",
            "[1 5 1 ... 7 6 9] [1 5 1 ... 7 6 9]\n",
            "0.8188049\n",
            "Iteration:  310\n",
            "[1 5 1 ... 7 6 9] [1 5 1 ... 7 6 9]\n",
            "0.8216098\n",
            "Iteration:  320\n",
            "[1 5 1 ... 7 6 9] [1 5 1 ... 7 6 9]\n",
            "0.82451224\n",
            "Iteration:  330\n",
            "[1 5 1 ... 7 6 9] [1 5 1 ... 7 6 9]\n",
            "0.82719517\n",
            "Iteration:  340\n",
            "[1 5 1 ... 7 6 9] [1 5 1 ... 7 6 9]\n",
            "0.82982934\n",
            "Iteration:  350\n",
            "[1 5 1 ... 7 6 9] [1 5 1 ... 7 6 9]\n",
            "0.83173174\n",
            "Iteration:  360\n",
            "[1 5 1 ... 7 6 9] [1 5 1 ... 7 6 9]\n",
            "0.8339025\n",
            "Iteration:  370\n",
            "[1 5 1 ... 7 6 9] [1 5 1 ... 7 6 9]\n",
            "0.8365122\n",
            "Iteration:  380\n",
            "[1 5 1 ... 7 6 9] [1 5 1 ... 7 6 9]\n",
            "0.8387073\n",
            "Iteration:  390\n",
            "[1 5 1 ... 7 6 9] [1 5 1 ... 7 6 9]\n",
            "0.8405854\n",
            "Iteration:  400\n",
            "[1 5 1 ... 7 6 9] [1 5 1 ... 7 6 9]\n",
            "0.8430732\n",
            "Iteration:  410\n",
            "[1 5 1 ... 7 6 9] [1 5 1 ... 7 6 9]\n",
            "0.8449513\n",
            "Iteration:  420\n",
            "[1 5 1 ... 7 6 9] [1 5 1 ... 7 6 9]\n",
            "0.8466586\n",
            "Iteration:  430\n",
            "[1 5 1 ... 7 6 9] [1 5 1 ... 7 6 9]\n",
            "0.8480488\n",
            "Iteration:  440\n",
            "[1 5 1 ... 7 6 9] [1 5 1 ... 7 6 9]\n",
            "0.8496098\n",
            "Iteration:  450\n",
            "[1 5 1 ... 7 6 9] [1 5 1 ... 7 6 9]\n",
            "0.85143906\n",
            "Iteration:  460\n",
            "[1 5 1 ... 7 6 9] [1 5 1 ... 7 6 9]\n",
            "0.853122\n",
            "Iteration:  470\n",
            "[1 5 1 ... 7 6 9] [1 5 1 ... 7 6 9]\n",
            "0.8543171\n",
            "Iteration:  480\n",
            "[1 5 1 ... 7 6 9] [1 5 1 ... 7 6 9]\n",
            "0.8553659\n",
            "Iteration:  490\n",
            "[1 5 1 ... 7 6 9] [1 5 1 ... 7 6 9]\n",
            "0.8566098\n",
            "6.339986085891724 seconds\n"
          ]
        }
      ]
    },
    {
      "cell_type": "code",
      "source": [
        "import matplotlib.pyplot as plt\n",
        "\n",
        "\n",
        "def make_predictions(X, W1, b1, W2, b2):\n",
        "    _, _, _, A2 = forward_prop(W1, b1, W2, b2, X)\n",
        "    predictions = get_predictions(A2)\n",
        "    return predictions\n",
        "\n",
        "def test_prediction(index, W1, b1, W2, b2):\n",
        "    current_image = X_train[:, index, None]\n",
        "    prediction = make_predictions(X_train[:, index, None], W1, b1, W2, b2)\n",
        "    label = Y_train[index]\n",
        "    print(\"Prediction: \", prediction)\n",
        "    print(\"Label: \", label)\n",
        "    \n",
        "    current_image = current_image.reshape((28, 28)) * 255\n",
        "    plt.gray()\n",
        "    plt.imshow(current_image, interpolation='nearest')\n",
        "    plt.show()"
      ],
      "metadata": {
        "id": "cfqFn2rcL8ht"
      },
      "execution_count": 18,
      "outputs": []
    },
    {
      "cell_type": "code",
      "source": [
        "test_prediction(0, W1, b1, W2, b2)\n",
        "test_prediction(1, W1, b1, W2, b2)\n",
        "test_prediction(2, W1, b1, W2, b2)\n",
        "test_prediction(3, W1, b1, W2, b2)"
      ],
      "metadata": {
        "colab": {
          "base_uri": "https://localhost:8080/",
          "height": 1000
        },
        "id": "efd2BSCFMJ0E",
        "outputId": "922a8689-7c35-453f-c7b0-4b1c2a15742a"
      },
      "execution_count": 19,
      "outputs": [
        {
          "output_type": "stream",
          "name": "stdout",
          "text": [
            "Prediction:  [1]\n",
            "Label:  1\n"
          ]
        },
        {
          "output_type": "display_data",
          "data": {
            "text/plain": [
              "<Figure size 640x480 with 1 Axes>"
            ],
            "image/png": "[encoded data removed]"
          },
          "metadata": {}
        },
        {
          "output_type": "stream",
          "name": "stdout",
          "text": [
            "Prediction:  [5]\n",
            "Label:  5\n"
          ]
        },
        {
          "output_type": "display_data",
          "data": {
            "text/plain": [
              "<Figure size 640x480 with 1 Axes>"
            ],
            "image/png": "[encoded data removed]"
          },
          "metadata": {}
        },
        {
          "output_type": "stream",
          "name": "stdout",
          "text": [
            "Prediction:  [1]\n",
            "Label:  1\n"
          ]
        },
        {
          "output_type": "display_data",
          "data": {
            "text/plain": [
              "<Figure size 640x480 with 1 Axes>"
            ],
            "image/png": "[encoded data removed]"
          },
          "metadata": {}
        },
        {
          "output_type": "stream",
          "name": "stdout",
          "text": [
            "Prediction:  [7]\n",
            "Label:  7\n"
          ]
        },
        {
          "output_type": "display_data",
          "data": {
            "text/plain": [
              "<Figure size 640x480 with 1 Axes>"
            ],
            "image/png": "[encoded data removed]"
          },
          "metadata": {}
        }
      ]
    }
  ]
}